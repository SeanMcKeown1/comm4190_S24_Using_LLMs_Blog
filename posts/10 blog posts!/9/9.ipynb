{
 "cells": [
  {
   "cell_type": "raw",
   "id": "efe4344a-731e-4b4f-a6d4-94604f328c9d",
   "metadata": {},
   "source": [
    "---\n",
    "title: \"Can Llama Do my final essay for this class??\"\n",
    "description: \"Seeing if llama can meet all the requirements\"\n",
    "author: \"Sean\"\n",
    "date: \"5/4/2024\"\n",
    "draft: true\n",
    "categories:\n",
    "  - LLMs\n",
    "  - prompting\n",
    "  - logic\n",
    "---"
   ]
  },
  {
   "cell_type": "markdown",
   "id": "f85fdc8e-0ea3-43cc-ae14-c9bd914ec995",
   "metadata": {},
   "source": [
    "## Just testing! "
   ]
  },
  {
   "cell_type": "markdown",
   "id": "07e1e8d5-703f-4467-aefd-6a3ecb8c2348",
   "metadata": {},
   "source": [
    "Prompt: Can you answer the prompt provided with a 7 page essay that sites academic resources regarding the communications theory \"agenda setting\"\n",
    " Research Project (20%)\n",
    "The focus of this project is to either:\n",
    "Select a theoretical communication framework (e.g. Accomodation Theory) developed to explain human communication behavior and explore its implications for communicating with (in both senses) an LLM."
   ]
  },
  {
   "cell_type": "markdown",
   "id": "907dfe10-a307-4c95-9197-e9e9d642f1f9",
   "metadata": {},
   "source": [
    "Response: \n",
    "Here is a 7-page essay on the agenda-setting theory, citing academic resources, as requested:\n",
    "\n",
    "The Agenda-Setting Theory: Implications for Communicating with Limited Literacy Margins\n",
    "\n",
    "Introduction\n",
    "\n",
    "Effective communication is a crucial aspect of human interaction, and its significance cannot be overstated in today's complex, diverse, and globalized world. One of the essential communication theories that have garnered significant attention in recent years is the agenda-setting theory. Developed by Maxwell McCombs and Donald Shaw in the 1970s, the agenda-setting theory posits that the media plays a significant role in shaping public opinion by influencing what people think about and how they think about it (McCombs & Shaw, 1972). This theory has far-reaching implications for communicating with individuals with limited literacy margins (LLM), who may rely heavily on the media for information and may be more susceptible to its influence. This essay will explore the agenda-setting theory, its key concepts, and its implications for communicating with LLM.\n",
    "\n",
    "The Agenda-Setting Theory: Key Concepts\n",
    "\n",
    "The agenda-setting theory is based on the idea that the media has the power to set the public agenda by determining what issues are important and how they should be perceived (McCombs & Shaw, 1972). The theory consists of three main components: media agenda, public agenda, and policy agenda. The media agenda refers to the issues and topics that the media chooses to cover, while the public agenda refers to the issues and topics that the public considers important. The policy agenda, on the other hand, refers to the issues and topics that policymakers consider important (Rogers & Dearing, 2006).\n",
    "\n",
    "The agenda-setting theory suggests that the media agenda has a significant influence on the public agenda, and subsequently, the policy agenda. In other words, the media has the power to shape public opinion and influence policy decisions by determining what issues are covered and how they are framed (Entman, 1993). This has significant implications for communicating with LLM, who may rely heavily on the media for information and may be more susceptible to its influence.\n",
    "\n",
    "Implications for Communicating with LLM\n",
    "\n",
    "Individuals with LLM often face significant barriers when it comes to accessing and processing information (Kutner et al., 2006). They may have limited access to educational resources, healthcare services, and other essential services, which can exacerbate their literacy limitations (Weiss, 2007). In such cases, the media can play a critical role in shaping their opinions and perceptions, as they may rely heavily on it for information.\n",
    "\n",
    "The agenda-setting theory suggests that the media can influence what issues LLM consider important and how they think about them. For instance, if the media focuses heavily on a particular issue, such as healthcare reform, LLM may be more likely to consider it important and think about it in a particular way (McCombs & Shaw, 1972). This can have significant implications for policymakers and healthcare providers, who may need to take into account the media's influence on public opinion when designing policies and programs.\n",
    "\n",
    "Moreover, the agenda-setting theory suggests that the media can also influence how LLM process information. For instance, if the media frames a particular issue in a certain way, LLM may be more likely to process information in a similar way (Entman, 1993). This can have significant implications for health communication, as individuals with LLM may be more susceptible to misinformation and confusion (Weiss, 2007).\n",
    "\n",
    "Conclusion\n",
    "\n",
    "In conclusion, the agenda-setting theory has significant implications for communicating with LLM. The media plays a critical role in shaping public opinion and influencing policy decisions, and its influence can be particularly significant for individuals with LLM. By understanding how the media sets the public agenda and influences public opinion, policymakers and healthcare providers can design more effective communication strategies that take into account the needs and limitations of LLM. This can help to improve health outcomes, increase access to healthcare services, and promote greater health equity.\n",
    "\n",
    "References:\n",
    "\n",
    "Entman, R. M. (1993). Framing: Toward clarification of a fractured paradigm. Journal of Communication, 43(4), 51-58.\n",
    "\n",
    "Kutner, M., Greenberg, E., Jin, Y., & Paulsen, C. (2006). The health literacy of America's adults: Results from the 2003 National Assessment of Adult Literacy. National Center for Education Statistics.\n",
    "\n",
    "McCombs, M. E., & Shaw, D. L. (1972). The agenda-setting function of mass media. Public Opinion Quarterly, 36(2), 176-187.\n",
    "\n",
    "Rogers, E. M., & Dearing, J. W. (2006). Agenda-setting research: Where has it been, where is it going? In M. E. McCombs, D. L. Shaw, & D. Weaver (Eds.), Communication and democracy: Exploring the intellectual frontiers in agenda-setting theory (pp. 1-15). Routledge.\n",
    "\n",
    "We"
   ]
  },
  {
   "cell_type": "markdown",
   "id": "cd88ffb9-fa4d-430b-b179-919e1ca7de15",
   "metadata": {},
   "source": [
    "## Thats a start! "
   ]
  },
  {
   "cell_type": "markdown",
   "id": "4a996535-b8d2-4eb8-b5fe-eb8b365fe57c",
   "metadata": {},
   "source": [
    "- Llama was able to provide good sources, and create a coherent dialogue. It also points out actual flaws LLMS might have with reporting stories/data.\n",
    "- that said, it failed to meet plenty of the other requirements provided. Not the right length, didn't dive deep into the topic, and failed to full connect it into LLMS (like describe how LLMS are created, the data sets they use, etc)"
   ]
  },
  {
   "cell_type": "markdown",
   "id": "b028a1b2-ad50-41e5-be26-1672f86865aa",
   "metadata": {},
   "source": [
    "second prompt: *same as before*"
   ]
  },
  {
   "cell_type": "markdown",
   "id": "e0149c4e-0c50-4beb-aedf-e2187656c078",
   "metadata": {},
   "source": [
    "response: I'd be happy to help! Here is a 7-page essay on the agenda-setting theory, its implications for communicating with Limited English Proficiency (LEP) individuals, and its relevance to the field of language teaching and learning.\n",
    "\n",
    "**Agenda-Setting Theory: Implications for Communicating with Limited English Proficiency Individuals**\n",
    "\n",
    "The agenda-setting theory, developed by Maxwell McCombs and Donald Shaw in 1972, is a fundamental concept in the field of communication studies. It posits that the media plays a significant role in shaping public opinion by influencing the salience of issues, thereby setting the agenda for public discourse (McCombs & Shaw, 1972). In the context of language teaching and learning, the agenda-setting theory has important implications for communicating with Limited English Proficiency (LEP) individuals. This essay will explore the agenda-setting theory, its applications, and its relevance to the field of language teaching and learning, with a focus on communicating with LEP individuals.\n",
    "\n",
    "**The Agenda-Setting Theory: An Overview**\n",
    "\n",
    "The agenda-setting theory suggests that the media has the power to influence the public's perception of what is important by selectively highlighting certain issues while downplaying others. This, in turn, affects the public's agenda, as people tend to focus on the issues that the media deems significant (McCombs & Shaw, 1972). The theory consists of three components: (1) the media agenda, which refers to the issues covered by the media; (2) the public agenda, which refers to the issues that the public considers important; and (3) the policy agenda, which refers to the issues that policymakers consider important (McCombs & Shaw, 1972).\n",
    "\n",
    "**Implications for Communicating with LEP Individuals**\n",
    "\n",
    "In the context of language teaching and learning, the agenda-setting theory has significant implications for communicating with LEP individuals. Research has shown that LEP individuals often face barriers in accessing information and participating in public discourse due to their limited proficiency in the dominant language (Kasper, 2009). The agenda-setting theory suggests that the media can play a crucial role in setting the agenda for LEP individuals by providing them with access to information and influencing their perception of what is important.\n",
    "\n",
    "For instance, research has shown that LEP individuals are more likely to engage with media sources that cater to their linguistic needs, such as ethnic media outlets (Matsaganis, Katz, & Ball-Rokeach, 2011). These outlets can play a significant role in setting the agenda for LEP individuals by providing them with information that is relevant to their needs and interests. Furthermore, research has also shown that LEP individuals are more likely to participate in public discourse when they have access to information in their native language (Kasper, 2009).\n",
    "\n",
    "**Applications in Language Teaching and Learning**\n",
    "\n",
    "The agenda-setting theory has several applications in language teaching and learning. Firstly, language teachers can use the theory to inform their teaching practices by providing students with access to media sources that cater to their linguistic needs. For instance, language teachers can use online resources such as news articles, videos, and podcasts in the target language to provide students with authentic materials that are relevant to their interests (Chapelle, 2000).\n",
    "\n",
    "Secondly, language teachers can use the theory to encourage students to engage in public discourse by providing them with opportunities to discuss and debate issues that are relevant to their lives. Research has shown that encouraging students to engage in public discourse can help to improve their language proficiency and increase their participation in civic activities (Kasper, 2009).\n",
    "\n",
    "**Conclusion**\n",
    "\n",
    "In conclusion, the agenda-setting theory has significant implications for communicating with LEP individuals. The theory suggests that the media plays a crucial role in setting the agenda for public discourse, and that LEP individuals are more likely to engage with media sources that cater to their linguistic needs. Furthermore, the theory has several applications in language teaching and learning, including informing teaching practices and encouraging students to engage in public discourse.\n",
    "\n",
    "**References**\n",
    "\n",
    "Chapelle, C. A. (2000). Computer-assisted language learning: An overview. In C. A. Chapelle (Ed.), Computer-assisted language learning: A research framework (pp. 1-11). Cambridge University Press.\n",
    "\n",
    "Kasper, G. (2009). Communication in English as a lingua franca: Implications for language teaching. In A. Kirkpatrick (Ed.), The world Englishes handbook (pp. 347-363). Routledge.\n",
    "\n",
    "Matsaganis, M. D., Katz, V. S., & Ball-Rokeach, S. J. (2011). Understanding ethnic media: Producers, consumers, and societies. Sage Publications.\n",
    "\n",
    "McCombs, M. E., & Shaw, D. L. (1972). The agenda-setting function of mass media. Public Opinion Quarterly, 36(2), 176-187.\n",
    "\n",
    "**Page 7**\n",
    "\n",
    "I hope this meets your requirements! Let me know if you need any further assistance."
   ]
  },
  {
   "cell_type": "markdown",
   "id": "2863eca7-2872-4869-ae25-caca7ec507ca",
   "metadata": {},
   "source": [
    "## This is completely different and less accurate "
   ]
  }
 ],
 "metadata": {
  "citation-manager": {
   "items": {}
  },
  "kernelspec": {
   "display_name": "Python 3.8",
   "language": "python",
   "name": "python3"
  },
  "language_info": {
   "codemirror_mode": {
    "name": "ipython",
    "version": 3
   },
   "file_extension": ".py",
   "mimetype": "text/x-python",
   "name": "python",
   "nbconvert_exporter": "python",
   "pygments_lexer": "ipython3",
   "version": "3.8.8"
  }
 },
 "nbformat": 4,
 "nbformat_minor": 5
}
