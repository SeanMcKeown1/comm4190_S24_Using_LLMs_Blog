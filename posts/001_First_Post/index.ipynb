{
 "cells": [
  {
   "cell_type": "raw",
   "id": "ed9c28dc-d5e3-4158-bd76-2447cb449cb0",
   "metadata": {},
   "source": [
    "---\n",
    "title: \"OK testing this thing\"\n",
    "description: \"An example post from a Jupyter notebook\"\n",
    "author: \"Sean\"\n",
    "date: \"2/6/2024\"\n",
    "categories:\n",
    "  - LLMs\n",
    "  - testing\n",
    "---"
   ]
  },
  {
   "cell_type": "markdown",
   "id": "e5a76a36-9486-49ce-a4ab-179f3ed9f220",
   "metadata": {},
   "source": [
    "### A test post"
   ]
  },
  {
   "cell_type": "code",
   "execution_count": null,
   "id": "9a9e94c0-9a50-4431-8ac0-ecb7506e8f9f",
   "metadata": {},
   "outputs": [],
   "source": []
  }
 ],
 "metadata": {
  "citation-manager": {
   "items": {}
  },
  "kernelspec": {
   "display_name": "Python 3.11 (COMM4190)",
   "language": "python",
   "name": "comm4190"
  },
  "language_info": {
   "codemirror_mode": {
    "name": "ipython",
    "version": 3
   },
   "file_extension": ".py",
   "mimetype": "text/x-python",
   "name": "python",
   "nbconvert_exporter": "python",
   "pygments_lexer": "ipython3",
   "version": "3.11.7"
  }
 },
 "nbformat": 4,
 "nbformat_minor": 5
}
