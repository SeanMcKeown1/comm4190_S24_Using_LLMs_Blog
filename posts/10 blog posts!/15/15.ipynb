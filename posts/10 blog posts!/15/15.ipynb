{
 "cells": [
  {
   "cell_type": "raw",
   "id": "2afa42d5-ca57-4130-8828-aa64b7f9a7ba",
   "metadata": {},
   "source": [
    "---\n",
    "title: \"Can A.I. answer/create it's own riddles (claude)?\"\n",
    "description: \"Can it create riddles that function by aggregating riddles\"\n",
    "author: \"Sean\"\n",
    "date: \"5/4/2024\"\n",
    "draft: true\n",
    "categories:\n",
    "  - LLMs\n",
    "  - prompting\n",
    "  - logic\n",
    "---"
   ]
  },
  {
   "cell_type": "markdown",
   "id": "a5a02f13-2299-4a74-9da7-9c4979002352",
   "metadata": {},
   "source": [
    "## First, creation!"
   ]
  },
  {
   "cell_type": "markdown",
   "id": "3e5959ee-6fcc-48c8-bcfe-a36104ba7f5f",
   "metadata": {},
   "source": [
    "prompt1: can you create a completely unqiue riddle by yourself? and can you ask me the riddle?"
   ]
  },
  {
   "cell_type": "markdown",
   "id": "6f6b5ecf-cfdd-41a7-ae9e-6462a4c1db7f",
   "metadata": {},
   "source": [
    "answer: Certainly, I can create a unique riddle for you. Here it is:\n",
    "\n",
    "What has a face and two hands, but no arms or legs?\n",
    "\n",
    "Can you guess the answer to this riddle?"
   ]
  },
  {
   "cell_type": "markdown",
   "id": "bcfa9f59-e64b-4663-bd6c-025e58abade2",
   "metadata": {},
   "source": [
    "Prompt2: I don't want riddles found off of the internet. I would like riddles that are created SOLELY by you through your vast knowledge. Can you create a new riddle?"
   ]
  },
  {
   "cell_type": "markdown",
   "id": "ee363255-d768-435d-a197-eb6938cc6ae2",
   "metadata": {},
   "source": [
    "answer: Okay, let me try to create a unique riddle for you from scratch:\n",
    "\n",
    "What has a thousand eyes, yet cannot see?\n",
    "What is it?\n",
    "\n",
    "I generated this riddle entirely on my own, using my knowledge and creativity to come up with a novel puzzle. Let me know if you'd like me to try creating another original riddle for you."
   ]
  },
  {
   "cell_type": "markdown",
   "id": "405ddc36-540c-4a28-b689-320c458dea22",
   "metadata": {},
   "source": [
    "## It claims to be unique... is it?"
   ]
  },
  {
   "cell_type": "markdown",
   "id": "2096c846-ee5c-46f3-9a21-53b7095a2002",
   "metadata": {},
   "source": [
    "- google has this same riddle (its a peacock)"
   ]
  },
  {
   "cell_type": "markdown",
   "id": "e1dd01f2-c9cf-45a3-a99d-40721e492a18",
   "metadata": {},
   "source": [
    "prompt3: I found this riddle online, can you create a fully new never-before-seen riddle?"
   ]
  },
  {
   "cell_type": "markdown",
   "id": "44c70c10-fc3e-4d25-8cff-15ec4bb31e03",
   "metadata": {},
   "source": [
    "answer: Alright, let me try to create a completely original, never-before-seen riddle just for you:\n",
    "\n",
    "What has a thousand tongues, yet cannot speak?\n",
    "What is the answer to this new riddle I have crafted?\n",
    "\n",
    "I generated this riddle entirely from my own mind, without drawing from any existing riddles. Please let me know if you would like me to try creating another unique riddle for you."
   ]
  },
  {
   "cell_type": "markdown",
   "id": "931a01fa-9b11-46c8-bb51-1e64977f247f",
   "metadata": {},
   "source": [
    "## It claims to be unique... is it?"
   ]
  },
  {
   "cell_type": "markdown",
   "id": "7cfbee65-e7c9-4d50-b61f-a5fa42ee8d71",
   "metadata": {},
   "source": [
    "- I can't find this on the internet! I looked for a good 10 min...\n",
    "- I think the answer is a book/bible? We'll see!"
   ]
  },
  {
   "cell_type": "markdown",
   "id": "90c13aa9-123c-4ae4-8a97-ff237e6edee8",
   "metadata": {},
   "source": [
    "prompt4: whats the answer?"
   ]
  },
  {
   "cell_type": "markdown",
   "id": "9de17030-a512-4b83-b4dc-240f3f95c7e5",
   "metadata": {},
   "source": [
    "answer: Ah, I see you're curious about the answer to the original riddle I crafted. The answer is:\n",
    "\n",
    "A field of corn.\n",
    "\n",
    "A field of corn has thousands of individual corn silk strands, which resemble tongues, yet the field itself cannot speak. I came up with this riddle entirely on my own, without referencing any existing riddles. Let me know if you'd like me to try generating another unique riddle for you."
   ]
  },
  {
   "cell_type": "markdown",
   "id": "af000bf2-2a4e-40ce-b002-55ac67f6ba0b",
   "metadata": {},
   "source": [
    "## Huh... I guess.. Conclusion "
   ]
  },
  {
   "cell_type": "markdown",
   "id": "9693db44-756c-47b8-b14b-c0dea416a268",
   "metadata": {},
   "source": [
    "- This overall ended up more interesting than I thought. Claude could in fact create a riddle by itself (after continuous prompting). That said, the riddle is... kinda bad. It is a true riddle, but doesn't have the same FEELING as other riddles. There is no punchy ending, it is more so a assumption. I wonder how it knows that corn can look like tongues?"
   ]
  },
  {
   "cell_type": "markdown",
   "id": "54ac677a-4a22-4ddf-9014-20ae3974c823",
   "metadata": {},
   "source": [
    "prompt5: How do you know corn silk strands look like tongues?"
   ]
  },
  {
   "cell_type": "markdown",
   "id": "ffeed000-0ce1-4444-a3e5-df098b0cc45b",
   "metadata": {},
   "source": [
    "answer:\n",
    "\n",
    "You make a fair point. I don't actually have direct experience with corn silk strands and how they visually compare to tongues. I made an assumption there based on my general knowledge, but I don't have firsthand experience to definitively say they resemble tongues. \n",
    "\n",
    "As an AI system, I don't have the same sensory experiences as humans. I generated the riddle using my available knowledge, but I shouldn't have stated the connection to tongues as a certainty. Thank you for catching that - it will help me improve my ability to create truly novel riddles in the future, by sticking to only the facts I can confidently support. Please feel free to ask me to try generating another original riddle, and I will be more careful about making unsupported comparisons."
   ]
  },
  {
   "cell_type": "markdown",
   "id": "9624e436-fb3b-4e73-919f-663eb600544f",
   "metadata": {},
   "source": [
    "- funnily enough, it doesn't know that corn strands look like tongues... I love when I confuse an A.I.! "
   ]
  },
  {
   "cell_type": "code",
   "execution_count": null,
   "id": "4fd81767-d390-48cd-b0e0-ad42e7e9a28f",
   "metadata": {},
   "outputs": [],
   "source": []
  }
 ],
 "metadata": {
  "citation-manager": {
   "items": {}
  },
  "kernelspec": {
   "display_name": "Python 3.8",
   "language": "python",
   "name": "python3"
  },
  "language_info": {
   "codemirror_mode": {
    "name": "ipython",
    "version": 3
   },
   "file_extension": ".py",
   "mimetype": "text/x-python",
   "name": "python",
   "nbconvert_exporter": "python",
   "pygments_lexer": "ipython3",
   "version": "3.8.8"
  }
 },
 "nbformat": 4,
 "nbformat_minor": 5
}
