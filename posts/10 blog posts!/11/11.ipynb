{
 "cells": [
  {
   "cell_type": "raw",
   "id": "27216598-d529-4031-9ef7-3277ab65d98c",
   "metadata": {},
   "source": [
    "---\n",
    "title: \"Can Llama help me plan out my Finals!\"\n",
    "description: \"Seeing if llama can take design a calander visual\"\n",
    "author: \"Sean\"\n",
    "date: \"5/4/2024\"\n",
    "draft: true\n",
    "categories:\n",
    "  - LLMs\n",
    "  - prompting\n",
    "  - logic\n",
    "---"
   ]
  },
  {
   "cell_type": "markdown",
   "id": "33293254-3693-4a5f-8f6f-2063005adb82",
   "metadata": {},
   "source": [
    "## I need academic help"
   ]
  },
  {
   "cell_type": "markdown",
   "id": "74e30384-4c26-4365-a29b-74f62dc0adb7",
   "metadata": {},
   "source": [
    "- Seeing If A.I. can balance a complicated calendar, and provide a visual (through coding)"
   ]
  },
  {
   "cell_type": "markdown",
   "id": "de33aca7-cfb1-4824-941d-2c9a95067386",
   "metadata": {},
   "source": [
    "Prompt: today is may 9th. I have a final paper and project due the 12th for a computational A.I. class, another final the 13th on sociology, and a critical perspectives in journalism final the 15th. On top of this, I have to design a list of articles to assign to other people by the 10th. Can you design me a schedule that fits all of these things so I am best prepared for each event? Preferably a list of things to complete leading up to each event for each day. Thanks! "
   ]
  },
  {
   "cell_type": "markdown",
   "id": "4fda8b92-7af4-4939-af68-939d2d48d6bc",
   "metadata": {},
   "source": [
    "response: \n",
    "\n",
    "I'd be happy to help you create a schedule to manage your tasks. Here's a suggested plan to help you stay on track:\n",
    "\n",
    "**May 9th (Today)**\n",
    "\n",
    "* Morning: Review notes and materials for Computational A.I. class, focus on the project and paper due on the 12th\n",
    "        + Make a list of tasks needed to complete the project and paper\n",
    "        + Break down the project into smaller, manageable chunks\n",
    "        + Identify any areas where you need more research or clarification\n",
    "* Afternoon: Work on designing the list of articles to assign to others (due on the 10th)\n",
    "        + Research and gather article options\n",
    "        + Organize and categorize the articles\n",
    "        + Write a brief summary or description for each article\n",
    "* Evening: Review Sociology notes and materials, familiarize yourself with the format and content of the exam on the 13th\n",
    "\n",
    "**May 10th**\n",
    "\n",
    "* Morning: Finalize the list of articles to assign to others\n",
    "        + Review and edit your summaries and descriptions\n",
    "        + Ensure the list is complete and meets the requirements\n",
    "        + Submit the list by the deadline\n",
    "* Afternoon: Focus on Computational A.I. project and paper\n",
    "        + Complete any remaining research or data collection\n",
    "        + Start working on the project components (e.g., coding, writing, etc.)\n",
    "* Evening: Continue reviewing Sociology notes and materials, focus on areas where you need improvement\n",
    "\n",
    "**May 11th**\n",
    "\n",
    "* Morning: Work on Computational A.I. paper\n",
    "        + Write and edit the introduction and literature review sections\n",
    "        + Develop an outline for the rest of the paper\n",
    "* Afternoon: Continue working on Computational A.I. project\n",
    "        + Make significant progress on the project components\n",
    "        + Ensure you're meeting the requirements and expectations\n",
    "* Evening: Review Critical Perspectives in Journalism notes and materials, familiarize yourself with the format and content of the exam on the 15th\n",
    "\n",
    "**May 12th**\n",
    "\n",
    "* Morning: Finalize Computational A.I. paper and project\n",
    "        + Complete any remaining writing or editing\n",
    "        + Ensure all components are complete and polished\n",
    "        + Submit the paper and project by the deadline\n",
    "* Afternoon: Review Sociology notes and materials, focus on areas where you need improvement\n",
    "        + Practice answering sample questions or take a practice quiz\n",
    "* Evening: Take a break and relax, you've earned it!\n",
    "\n",
    "**May 13th**\n",
    "\n",
    "* Morning: Take the Sociology final exam\n",
    "        + Arrive early and feel confident in your preparation\n",
    "* Afternoon: Review Critical Perspectives in Journalism notes and materials\n",
    "        + Focus on areas where you need improvement\n",
    "        + Practice answering sample questions or take a practice quiz\n",
    "* Evening: Continue reviewing Critical Perspectives in Journalism materials, feel confident in your preparation\n",
    "\n",
    "**May 14th**\n",
    "\n",
    "* Morning: Review Critical Perspectives in Journalism notes and materials\n",
    "        + Focus on areas where you need improvement\n",
    "        + Practice answering sample questions or take a practice quiz\n",
    "* Afternoon: Take a break and relax, you've almost made it!\n",
    "* Evening: Review Critical Perspectives in Journalism materials one last time, feel confident in your preparation\n",
    "\n",
    "**May 15th**\n",
    "\n",
    "* Morning: Take the Critical Perspectives in Journalism final exam\n",
    "        + Arrive early and feel confident in your preparation\n",
    "\n",
    "Remember to take breaks, eat well, and get enough sleep throughout this period. Stay focused, and you'll be able to manage your tasks and perform well on your exams. Good luck!"
   ]
  },
  {
   "cell_type": "markdown",
   "id": "828770b3-512d-4e89-a234-1dee87868bfb",
   "metadata": {},
   "source": [
    "## These are good results! But I want more"
   ]
  },
  {
   "cell_type": "markdown",
   "id": "c983c770-f96b-49d5-83ba-5b05830113cc",
   "metadata": {},
   "source": [
    "Prompt: can you provide a visual aid for this work created through python coding? Preferably a calendar type visual."
   ]
  },
  {
   "cell_type": "markdown",
   "id": "ffa6f4c1-26a0-47d2-a69b-b9e30758ee0c",
   "metadata": {},
   "source": [
    "I can help you with that. Here is a Python code that generates a calendar-like visual aid for your tasks:\n",
    "```\n",
    "This code generates a calendar-like plot with markers for each task due date. The tasks are listed on the y-axis, and the days of the month are on the x-axis.\n",
    "\n",
    "Here's the output:\n",
    "\n",
    "<IMAGE>\n",
    "\n",
    "Please note that you'll need to have `matplotlib` installed to run▌"
   ]
  },
  {
   "cell_type": "code",
   "execution_count": 8,
   "id": "39ceb5d5-f233-4f5a-81b1-0ae0dc55b11e",
   "metadata": {},
   "outputs": [
    {
     "data": {
      "image/png": "[encoded data removed]",
      "text/plain": [
       "<Figure size 720x432 with 1 Axes>"
      ]
     },
     "metadata": {
      "needs_background": "light"
     },
     "output_type": "display_data"
    }
   ],
   "source": [
    "\n",
    "\n",
    "import calendar\n",
    "import matplotlib.pyplot as plt\n",
    "\n",
    "# Define tasks and their due dates\n",
    "tasks = [\n",
    "    {\"task\": \"Design article list\", \"due_date\": \"2023-05-10\"},\n",
    "    {\"task\": \"Computational A.I. project and paper\", \"due_date\": \"2023-05-12\"},\n",
    "    {\"task\": \"Sociology final exam\", \"due_date\": \"2023-05-13\"},\n",
    "    {\"task\": \"Critical Perspectives in Journalism final exam\", \"due_date\": \"2023-05-15\"},\n",
    "]\n",
    "\n",
    "# Create a calendar object\n",
    "cal = calendar.monthcalendar(2023, 5)\n",
    "\n",
    "# Create a figure and axis object\n",
    "fig, ax = plt.subplots(figsize=(10, 6))\n",
    "\n",
    "# Plot the calendar\n",
    "for week in cal:\n",
    "    for day in week:\n",
    "        if day == 0:\n",
    "            continue\n",
    "        ax.plot([day, day], [0, 1], 'k-')\n",
    "\n",
    "# Add task markers\n",
    "for task in tasks:\n",
    "    due_date = task[\"due_date\"].split(\"-\")\n",
    "    year, month, day = int(due_date[0]), int(due_date[1]), int(due_date[2])\n",
    "    ax.plot([day], [0.5], 'ro')\n",
    "    ax.text(day, 0.4, task[\"task\"], ha='center', va='center', fontsize=10)\n",
    "\n",
    "# Set title and labels\n",
    "ax.set_title(\"Task Schedule for May 2023\")\n",
    "ax.set_xlabel(\"Day\")\n",
    "ax.set_ylabel(\"\")\n",
    "ax.set_xlim(1, 31)\n",
    "ax.set_ylim(0, 1)\n",
    "ax.set_xticks(range(1, 32))\n",
    "ax.set_yticks([])\n",
    "\n",
    "# Show the plot\n",
    "plt.show()\n"
   ]
  },
  {
   "cell_type": "markdown",
   "id": "5612a75e-bed1-4471-bab0-fcbbb8881838",
   "metadata": {},
   "source": [
    "Second prompt:This, visually, is unreadable. Could you provide a visual representation hat is more readable and accurate?"
   ]
  },
  {
   "cell_type": "markdown",
   "id": "fde1fb68-8d92-4767-a281-1e184e6d3e1a",
   "metadata": {},
   "source": [
    "Response: After this prompt, llama stopped working"
   ]
  },
  {
   "cell_type": "markdown",
   "id": "61edb061-1dfd-48f4-9334-586d23745099",
   "metadata": {},
   "source": [
    "## Oh, thats not right... Conclusion "
   ]
  },
  {
   "cell_type": "markdown",
   "id": "01063f23-fe0c-40e4-a806-c88af4baf8a8",
   "metadata": {},
   "source": [
    "- Llama can make a great traditional \"game plan\" to follow for my work. That said, it has failed to translated this work into a visual representation. I know llama can do exactly this, but it seems to struggle when provided with data from outside sources (my words instead of, say, a stat sheet.) "
   ]
  },
  {
   "cell_type": "code",
   "execution_count": null,
   "id": "b02e20af-d4d4-40af-9082-d9f2574e5c83",
   "metadata": {},
   "outputs": [],
   "source": []
  }
 ],
 "metadata": {
  "citation-manager": {
   "items": {}
  },
  "kernelspec": {
   "display_name": "Python 3.8",
   "language": "python",
   "name": "python3"
  },
  "language_info": {
   "codemirror_mode": {
    "name": "ipython",
    "version": 3
   },
   "file_extension": ".py",
   "mimetype": "text/x-python",
   "name": "python",
   "nbconvert_exporter": "python",
   "pygments_lexer": "ipython3",
   "version": "3.8.8"
  }
 },
 "nbformat": 4,
 "nbformat_minor": 5
}
