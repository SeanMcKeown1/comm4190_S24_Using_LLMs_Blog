{
 "cells": [
  {
   "cell_type": "raw",
   "id": "86ca8471-77ca-41da-88f0-1b26afc9cff4",
   "metadata": {},
   "source": [
    "---\n",
    "title: \"Can I recreat an Image with A.I. \"\n",
    "description: \"You wouldn't train an A.I. Model...\"\n",
    "author: \"Sean McKeown\"\n",
    "date: \"2/17/2024\"\n",
    "categories:\n",
    "  - LLMs\n",
    "  - prompting\n",
    "  - logic\n",
    "---"
   ]
  },
  {
   "cell_type": "markdown",
   "id": "011a1af0-bad9-4aec-b969-ffe38513037c",
   "metadata": {},
   "source": [
    "## You Wouldn't Train An A.I Model?"
   ]
  },
  {
   "cell_type": "code",
   "execution_count": null,
   "id": "403d8645-b32d-4c84-8bed-9dea2cba7a2c",
   "metadata": {},
   "outputs": [],
   "source": []
  },
  {
   "cell_type": "markdown",
   "id": "f3023a07-f237-408c-9623-862635308c34",
   "metadata": {},
   "source": [
    "> First attempt: You wouldn't steal a car ad from the 90s-00s used to fight against piracy. This revamped towards you wouldn't train an A.I. model (shown below). Can I get an A.I. to show this exact sticker? GenCraft "
   ]
  },
  {
   "cell_type": "markdown",
   "id": "cf567e6b-b29b-49dd-8391-eb03cb606631",
   "metadata": {},
   "source": [
    "In the style of old ads that fight against Piracy (You Wouldn't Steal A Car\", can you create an image that says \"You wouldn't Train An AI Model\""
   ]
  },
  {
   "cell_type": "markdown",
   "id": "08d89f62-5951-40ec-9d7c-b1eb26a3799a",
   "metadata": {},
   "source": [
    "Specifically like those old ads, can you use a black backround and white text that flickers a tad. This would play at the end of anti-piracy ads."
   ]
  },
  {
   "cell_type": "markdown",
   "id": "50cff9ab-c677-4064-ad30-f6ba3cb56a8c",
   "metadata": {},
   "source": [
    "A big part of these ads is that they just exist as text. These is no images in the ad. Just the worlds \"You Wouldn't Train An AI ModeL\" In the style of \"You"
   ]
  },
  {
   "cell_type": "markdown",
   "id": "7ee1f47b-55e5-4171-bd4d-03063553ac68",
   "metadata": {},
   "source": [
    "> Second attempt: Deep-AI"
   ]
  },
  {
   "cell_type": "markdown",
   "id": "256a2ad7-b5c7-488b-8902-b41000f0b855",
   "metadata": {},
   "source": [
    "In the style of old ads that fight against Piracy (You Wouldn't Steal A Car\", can you create an image that says \"You wouldn't Train An AI Model\""
   ]
  },
  {
   "cell_type": "markdown",
   "id": "f37ac077-f064-4aef-a777-6bce6e7ce9c9",
   "metadata": {},
   "source": [
    "Specifically like those old ads, can you use a black backround and white text that flickers a tad. This would play at the end of anti-piracy ads."
   ]
  },
  {
   "cell_type": "markdown",
   "id": "8090d78c-c2e3-4f29-9911-9174a353dec9",
   "metadata": {},
   "source": [
    "A big part of these ads is that they just exist as text. These is no images in the ad. Just the worlds \"You Wouldn't Train An AI ModeL\" In the style of \"You Wouldn't Steal A Car\""
   ]
  },
  {
   "cell_type": "markdown",
   "id": "36e843c6-56d2-43ed-9f3e-c9e9151d095f",
   "metadata": {},
   "source": [
    ">Third Attempt: CHATGPT 4 (premium)"
   ]
  },
  {
   "cell_type": "markdown",
   "id": "47f0460b-c613-4102-a214-0bfe3f37047c",
   "metadata": {},
   "source": [
    "In the style of old ads that fight against Piracy (You Wouldn't Steal A Car\", can you create an image that says \"You wouldn't Train An AI Model\""
   ]
  },
  {
   "cell_type": "markdown",
   "id": "08d4ce47-98cd-4a31-9823-ed1751b36215",
   "metadata": {},
   "source": [
    "Specifically like those old ads, can you use a black backround and white text that flickers a tad. This would play at the end of anti-piracy ads."
   ]
  },
  {
   "cell_type": "markdown",
   "id": "817f1e55-d2a3-4b52-b2f8-57df5ed5b164",
   "metadata": {},
   "source": [
    "A big part of these ads is that they just exist as text. These is no images in the ad. Just the worlds \"You Wouldn't Train An AI ModeL\" In the style of \"You Wouldn't Steal A Car\""
   ]
  },
  {
   "cell_type": "markdown",
   "id": "15dcf5d7-c701-459e-920c-3a14bf3d1abf",
   "metadata": {},
   "source": [
    "> My conclusion from this has been that A.I. image creation has a lot farther to go if it truly is this omnipotent creation tool. My ask, in general, was quite simple. I tested three different software of three different capabilites, and it turns out none of them can create the image I wanted. This could because of the niche question that was posed, or the difficult key words in the prompt. Mention A.I. in my wanted sentence could have made problems, and so could have asking for a popular image to be recreated in the first place."
   ]
  },
  {
   "cell_type": "code",
   "execution_count": null,
   "id": "00c41f6c-f3f6-4375-b857-0a74c5500892",
   "metadata": {},
   "outputs": [],
   "source": []
  }
 ],
 "metadata": {
  "citation-manager": {
   "items": {}
  },
  "kernelspec": {
   "display_name": "Python 3.8",
   "language": "python",
   "name": "python3"
  },
  "language_info": {
   "codemirror_mode": {
    "name": "ipython",
    "version": 3
   },
   "file_extension": ".py",
   "mimetype": "text/x-python",
   "name": "python",
   "nbconvert_exporter": "python",
   "pygments_lexer": "ipython3",
   "version": "3.8.8"
  }
 },
 "nbformat": 4,
 "nbformat_minor": 5
}
