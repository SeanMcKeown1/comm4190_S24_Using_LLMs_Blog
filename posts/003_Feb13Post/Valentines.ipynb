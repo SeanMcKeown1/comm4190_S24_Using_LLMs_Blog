{
 "cells": [
  {
   "cell_type": "raw",
   "id": "16fb6afd-6225-4398-b65c-68a0dd53601b",
   "metadata": {},
   "source": [
    "---\n",
    "title: \"Sean's Valentines Day!\"\n",
    "description: \"Destroy them mentally\"\n",
    "author: \"sean\"\n",
    "date: \"2/13/2024\"\n",
    "categories:\n",
    "  - LLMS\n",
    "  - Testing \n",
    "  - Valentines day\n",
    "---"
   ]
  },
  {
   "cell_type": "code",
   "execution_count": null,
   "id": "d4453123-2231-4978-aca0-eb12754377f8",
   "metadata": {},
   "outputs": [],
   "source": []
  }
 ],
 "metadata": {
  "citation-manager": {
   "items": {}
  },
  "kernelspec": {
   "display_name": "Python 3.8",
   "language": "python",
   "name": "python3"
  },
  "language_info": {
   "codemirror_mode": {
    "name": "ipython",
    "version": 3
   },
   "file_extension": ".py",
   "mimetype": "text/x-python",
   "name": "python",
   "nbconvert_exporter": "python",
   "pygments_lexer": "ipython3",
   "version": "3.8.8"
  }
 },
 "nbformat": 4,
 "nbformat_minor": 5
}
