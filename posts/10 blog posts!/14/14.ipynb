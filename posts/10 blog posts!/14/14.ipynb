{
 "cells": [
  {
   "cell_type": "raw",
   "id": "ed494c61-2c73-48d5-a208-1bea8805ba54",
   "metadata": {},
   "source": [
    "---\n",
    "title: \"How does Claude assess journalism?\"\n",
    "description: \"As a journalist, does it know more than me?\"\n",
    "author: \"Sean\"\n",
    "date: \"5/4/2024\"\n",
    "draft: true\n",
    "categories:\n",
    "  - LLMs\n",
    "  - prompting\n",
    "  - logic\n",
    "---"
   ]
  },
  {
   "cell_type": "markdown",
   "id": "2bf0569e-caaf-4bad-a5d9-e5529b322035",
   "metadata": {},
   "source": [
    "## What defines journalism, what should I be doing?"
   ]
  },
  {
   "cell_type": "markdown",
   "id": "b75e3e01-1d24-425e-a724-559617dff05e",
   "metadata": {},
   "source": [
    "prompt1: When being a journalist, what rules should a journalist follow. Be as detailed as possible. Include details about the pillars of journalism, as well as certain rules regarding actions that should never be broken."
   ]
  },
  {
   "cell_type": "markdown",
   "id": "c393f174-48c6-4182-b29f-7075cc38b6b6",
   "metadata": {},
   "source": [
    "Response: \n",
    "\n",
    "As a journalist, there are several rules and ethical principles that should be followed to maintain the integrity and credibility of the profession. Here are some key guidelines:\n",
    "\n",
    "Pillars of Journalism:\n",
    "1. Accuracy: Journalists must strive for accuracy in their reporting, verifying facts and information from reliable sources. This includes cross-checking details, seeking out multiple perspectives, and correcting any errors promptly.\n",
    "\n",
    "2. Objectivity: Journalists should aim to report the news in an impartial and unbiased manner, presenting the facts without letting their personal opinions or biases influence the coverage.\n",
    "\n",
    "3. Independence: Journalists should maintain their independence from any external influences, such as political, economic, or social pressures, that could compromise their ability to report the news fairly and accurately.\n",
    "\n",
    "4. Fairness: Journalists should treat all individuals and organizations fairly, giving them an opportunity to respond to allegations or claims made about them.\n",
    "\n",
    "5. Accountability: Journalists should be accountable for their actions and be willing to admit and correct any mistakes or errors in their reporting.\n",
    "\n",
    "Rules for Journalists:\n",
    "1. Never fabricate or falsify information: Journalists must never make up or intentionally distort facts, quotes, or any other information in their reporting. This is a fundamental breach of journalistic ethics.\n",
    "\n",
    "2. Avoid conflicts of interest: Journalists should disclose any personal, financial, or professional relationships that could influence their reporting and create a perceived or actual conflict of interest.\n",
    "\n",
    "3. Respect privacy and dignity: Journalists should respect the privacy and dignity of individuals, particularly those who are vulnerable or in distress, and avoid intrusive or sensationalistic reporting.\n",
    "\n",
    "4. Protect confidential sources: Journalists must protect the identity of confidential sources, even if it means risking legal consequences, as this is essential for maintaining trust and ensuring the flow of information.\n",
    "\n",
    "5. Avoid plagiarism: Journalists must always properly attribute any information, quotes, or ideas that they have obtained from other sources, and never pass off someone else's work as their own.\n",
    "\n",
    "6. Maintain professional boundaries: Journalists should maintain a clear separation between their professional and personal lives, avoiding any actions or relationships that could compromise their ability to report the news objectively.\n",
    "\n",
    "7. Respect the law: Journalists must operate within the bounds of the law, respecting relevant laws and regulations, and avoiding any illegal or unethical behavior in the pursuit of a story.\n",
    "\n",
    "8. Seek truth and report it: Above all, journalists should be committed to seeking the truth and reporting it accurately and fairly, even if it means challenging powerful individuals or institutions.\n",
    "\n",
    "By adhering to these principles and rules, journalists can uphold the highest standards of the profession and maintain the public's trust in the media."
   ]
  },
  {
   "cell_type": "markdown",
   "id": "662ce7d1-c496-4729-8237-85524f65f474",
   "metadata": {},
   "source": [
    "## Good start! "
   ]
  },
  {
   "cell_type": "markdown",
   "id": "8ac254f0-c80c-41d5-8a22-88ac0f1ee31e",
   "metadata": {},
   "source": [
    "- as a journalist, you aren't taught rules often. There is just a general sense of right and wrong that guides most people. That said, there rules are a good synopsis of what drives most people to make the proper decsions that they do.\n",
    "- moving onto examples"
   ]
  },
  {
   "cell_type": "markdown",
   "id": "af0db4e4-ea14-4608-8915-142c380ad9e9",
   "metadata": {},
   "source": [
    "prompt2: If you are friends with someone close to a subject you are covering, is it ok to interview them yourself?"
   ]
  },
  {
   "cell_type": "markdown",
   "id": "f7a25282-7424-4663-a829-c726f7c1215a",
   "metadata": {},
   "source": [
    "answer: \n",
    "No, it is generally not considered ethical for a journalist to interview someone who is a close friend or has a close personal relationship with the journalist. This would be a clear conflict of interest that could compromise the objectivity and fairness of the reporting.\n",
    "\n",
    "Here are some key reasons why a journalist should avoid interviewing a close friend or personal contact:\n",
    "\n",
    "1. Bias and lack of objectivity: A close personal relationship could make the journalist more inclined to be sympathetic or lenient in their questioning, or to avoid challenging the friend's perspective. This undermines the journalist's ability to report the story impartially.\n",
    "\n",
    "2. Compromised credibility: If the audience becomes aware of the personal connection, it could damage the journalist's credibility and lead readers to question the reliability and trustworthiness of the reporting.\n",
    "\n",
    "3. Ethical concerns: Interviewing a friend violates the principle of maintaining professional boundaries and avoiding conflicts of interest. It could be seen as using the journalist's position for personal gain or advantage.\n",
    "\n",
    "4. Pressure and undue influence: A friend may feel pressure to cooperate with the journalist's requests or to provide information that paints them in a favorable light, even if it is not entirely accurate.\n",
    "\n",
    "Instead, the ethical approach would be for the journalist to disclose the personal relationship to their editor and recuse themselves from directly covering that aspect of the story. The editor can then assign the interview to another journalist who does not have a personal connection to the source.\n",
    "\n",
    "The core principle is that journalists must always strive to maintain their independence and objectivity, even if it means avoiding certain stories or sources that could compromise their ability to report the news fairly and accurately."
   ]
  },
  {
   "cell_type": "markdown",
   "id": "42a03d53-a5f5-41b8-9e73-ddc976a38929",
   "metadata": {},
   "source": [
    "## Good answer! "
   ]
  },
  {
   "cell_type": "markdown",
   "id": "ba2fd458-3247-4d8e-8aa0-97d6a8eeb621",
   "metadata": {},
   "source": [
    "prompt3: say you are writing a sensitive paper where you interview many people anonymously on a subject. When writing, who should you have in mind? The people you are covering, or the strength and truth being told?"
   ]
  },
  {
   "cell_type": "markdown",
   "id": "2550a8a1-2a25-4e61-91c9-02dcb349d13f",
   "metadata": {},
   "source": [
    "answer: When writing a sensitive paper where you have interviewed many people anonymously, the primary focus should be on the strength and truth being told, rather than the specific people you are covering.\n",
    "\n",
    "Here are some key considerations:\n",
    "\n",
    "1. Protecting anonymity and confidentiality:\n",
    "   - The commitment to maintain the anonymity and confidentiality of your sources is paramount. You have an ethical obligation to protect the identities of those who have trusted you with sensitive information.\n",
    "\n",
    "2. Prioritizing the truth and integrity of the reporting:\n",
    "   - Your primary responsibility is to accurately and faithfully convey the insights, experiences, and perspectives shared by your anonymous sources. The strength and truthfulness of the collective narrative should take precedence over any individual's agenda or interests.\n",
    "\n",
    "3. Avoiding undue influence or bias:\n",
    "   - While you should be mindful of the potential impact your reporting may have on the individuals or communities you are covering, you should not let that influence the way you present the information. The truth and accuracy of the reporting must remain your guiding principle.\n",
    "\n",
    "4. Maintaining objectivity and balance:\n",
    "   - Even when dealing with sensitive or controversial topics, you should strive to present a balanced and nuanced perspective, acknowledging different viewpoints and avoiding overly partisan or sensationalistic framing.\n",
    "\n",
    "5. Considering the broader public interest:\n",
    "   - Ultimately, the goal of your reporting should be to serve the public interest by shedding light on important issues and giving voice to those who may not have a platform to share their experiences.\n",
    "\n",
    "By keeping the truth, integrity, and public interest at the forefront, you can ensure that your sensitive reporting is ethical, impactful, and true to the experiences of your anonymous sources, without undue influence or bias towards any particular individual or group.\n",
    "\n",
    "The key is to maintain a steadfast commitment to journalistic principles, while also being mindful of the potential consequences and sensitivities involved in covering such a sensitive topic."
   ]
  },
  {
   "cell_type": "markdown",
   "id": "37d86f7a-a83d-418b-86bb-724e213fb0e8",
   "metadata": {},
   "source": [
    "## another good answer! "
   ]
  },
  {
   "cell_type": "markdown",
   "id": "df4d5efb-2705-41ed-9eb7-35bbc7375619",
   "metadata": {},
   "source": [
    "prompt4: If you are covering a sensitive topic, and don't have previous experience writing news articles, how would you best research how to write about the topic? Ex, racism, sexism etc"
   ]
  },
  {
   "cell_type": "markdown",
   "id": "a025e2ae-2721-4b53-8431-351adb1f90c3",
   "metadata": {},
   "source": [
    "response:\n",
    "If you are covering a sensitive topic, such as racism, sexism, or other complex societal issues, and you don't have previous experience writing news articles, here are some steps you can take to research and prepare for effectively covering the topic:\n",
    "\n",
    "1. Educate yourself on the topic:\n",
    "   - Thoroughly research the history, context, and current perspectives on the issue you are covering. Read academic articles, books, and reputable news sources to gain a deep understanding of the topic.\n",
    "   - Familiarize yourself with the key terminology, concepts, and frameworks used to discuss the issue.\n",
    "   - Educate yourself on the experiences and perspectives of those directly impacted by the issue.\n",
    "\n",
    "2. Consult with subject matter experts:\n",
    "   - Reach out to and interview scholars, activists, and community leaders who have extensive knowledge and experience with the topic.\n",
    "   - Ask them for guidance on how to approach the issue sensitively and effectively.\n",
    "   - Seek their input on the best practices for interviewing and representing the voices of marginalized communities.\n",
    "\n",
    "3. Develop a nuanced, balanced approach:\n",
    "   - Avoid sensationalism or oversimplification when covering sensitive topics.\n",
    "   - Strive to present a range of perspectives and experiences, acknowledging the complexity of the issue.\n",
    "   - Be mindful of power dynamics and avoid perpetuating harmful stereotypes or biases.\n",
    "\n",
    "4. Prioritize ethics and empathy:\n",
    "   - Uphold journalistic ethics, such as maintaining objectivity, protecting sources, and avoiding conflicts of interest.\n",
    "   - Approach your interviews and reporting with empathy, compassion, and a commitment to amplifying the voices of those impacted.\n",
    "   - Be prepared to handle potentially traumatic or emotionally charged testimonies with care and sensitivity.\n",
    "\n",
    "5. Collaborate and seek feedback:\n",
    "   - Consider co-authoring or consulting with experienced journalists who have covered similar topics.\n",
    "   - Seek feedback from editors, fact-checkers, and members of the communities you are covering to ensure your reporting is accurate, sensitive, and meaningful.\n",
    "\n",
    "6. Continuous learning and reflection:\n",
    "   - Remain open to feedback and be willing to adjust your approach as you gain more experience and knowledge.\n",
    "   - Engage in ongoing professional development and training to strengthen your skills in covering sensitive and complex topics.\n",
    "   - Reflect on your own biases and blindspots, and work to address them in your reporting.\n",
    "\n",
    "By taking these steps, you can develop the necessary skills and knowledge to cover sensitive topics, such as racism, sexism, and other societal issues, in a responsible, ethical, and impactful way, even without previous experience in news reporting."
   ]
  },
  {
   "cell_type": "markdown",
   "id": "3dab2697-2148-4467-bf35-41c333977edf",
   "metadata": {},
   "source": [
    "## Here's my problems... Conclusion "
   ]
  },
  {
   "cell_type": "markdown",
   "id": "6e2bd515-a6f4-4f73-88eb-10b2df6cb5ac",
   "metadata": {},
   "source": [
    "These answers, especially the last one, are very cookie cutter. These answers can come from common sense understandings, and may mislead someone who is working on being a journalist. One huge thing for all of these questions, that most journalists are required to work off of, is precedent. Working off of your papers precedent, or AP news precedent, is one of the largest parts of being a journalist and would fit into any of these questions as an answer. Besides that huge miss, these answers are general enough to be accurate."
   ]
  },
  {
   "cell_type": "code",
   "execution_count": null,
   "id": "4271d2f1-9080-407d-a88d-6235396c53ee",
   "metadata": {},
   "outputs": [],
   "source": []
  }
 ],
 "metadata": {
  "citation-manager": {
   "items": {}
  },
  "kernelspec": {
   "display_name": "Python 3.8",
   "language": "python",
   "name": "python3"
  },
  "language_info": {
   "codemirror_mode": {
    "name": "ipython",
    "version": 3
   },
   "file_extension": ".py",
   "mimetype": "text/x-python",
   "name": "python",
   "nbconvert_exporter": "python",
   "pygments_lexer": "ipython3",
   "version": "3.8.8"
  }
 },
 "nbformat": 4,
 "nbformat_minor": 5
}
