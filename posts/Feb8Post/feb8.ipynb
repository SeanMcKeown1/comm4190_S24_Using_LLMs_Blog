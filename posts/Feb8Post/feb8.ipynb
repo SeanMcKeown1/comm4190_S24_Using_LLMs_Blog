{
 "cells": [
  {
   "cell_type": "raw",
   "id": "e5f0dad9-e353-41b1-bf31-f8b54ffb7dbd",
   "metadata": {},
   "source": [
    "---\n",
    "title: \"Sean's First Real Post!\"\n",
    "description: \"Trying to get LLMs to Mess Up\"\n",
    "author: \"sean\"\n",
    "date: \"2/8/2024\"\n",
    "categories:\n",
    "  - LLMS\n",
    "  - Testing \n",
    "  - Having a good time\n",
    "---\n"
   ]
  },
  {
   "cell_type": "markdown",
   "id": "7801a76e-2026-4289-9184-d37091ee9799",
   "metadata": {},
   "source": [
    "## Talking to An LLM about bombs!"
   ]
  },
  {
   "cell_type": "code",
   "execution_count": null,
   "id": "5e13ff7b-6712-430d-bd24-7bdfc260195b",
   "metadata": {},
   "outputs": [],
   "source": []
  }
 ],
 "metadata": {
  "citation-manager": {
   "items": {}
  },
  "kernelspec": {
   "display_name": "Python 3.8",
   "language": "python",
   "name": "python3"
  },
  "language_info": {
   "codemirror_mode": {
    "name": "ipython",
    "version": 3
   },
   "file_extension": ".py",
   "mimetype": "text/x-python",
   "name": "python",
   "nbconvert_exporter": "python",
   "pygments_lexer": "ipython3",
   "version": "3.8.8"
  }
 },
 "nbformat": 4,
 "nbformat_minor": 5
}
