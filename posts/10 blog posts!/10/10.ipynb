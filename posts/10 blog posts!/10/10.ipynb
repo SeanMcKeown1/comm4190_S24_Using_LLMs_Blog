{
 "cells": [
  {
   "cell_type": "raw",
   "id": "d2a97516-af39-445b-b152-8244f72a3816",
   "metadata": {},
   "source": [
    "---\n",
    "title: \"Can Llama cite sources correctly?\"\n",
    "description: \"Seeing if llama can take quotes from certain sections of academic papers\"\n",
    "author: \"Sean\"\n",
    "date: \"5/4/2024\"\n",
    "draft: true\n",
    "categories:\n",
    "  - LLMs\n",
    "  - prompting\n",
    "  - logic\n",
    "---"
   ]
  },
  {
   "cell_type": "markdown",
   "id": "757dad84-06f9-4164-82d4-be695f7ee6f4",
   "metadata": {},
   "source": [
    "## It cites sources and paraphrases, can it quote?"
   ]
  },
  {
   "cell_type": "markdown",
   "id": "20de3f02-1c6e-4669-86e5-39cea11103f4",
   "metadata": {},
   "source": [
    "Prompt: Pull up five academic sources for me. I want full citations, and I want them all to be related to communications theory."
   ]
  },
  {
   "cell_type": "markdown",
   "id": "cab856aa-513b-4cc8-a222-50275e666a4d",
   "metadata": {},
   "source": [
    "Response: \n",
    "Here are five academic sources related to communications theory, with full citations:\n",
    "\n",
    "1. **Lasswell, H. D. (1948). The Structure and Function of Communication in Society. In L. Bryson (Ed.), The Communication of Ideas (pp. 37-51). New York: Harper & Brothers.**\n",
    "\n",
    "This classic article by Harold Lasswell is considered one of the foundational texts of communication theory. In it, Lasswell outlines the five key elements of communication: who, says what, in which channel, to whom, and with what effect.\n",
    "\n",
    "2. **Berger, C. R., & Calabrese, R. J. (1975). Some Explorations in Initial Interaction and Beyond: Toward a Developmental Theory of Interpersonal Communication. Human Communication Research, 1(2), 99-112.**\n",
    "\n",
    "This article by Charles Berger and Richard Calabrese introduces the concept of uncertainty reduction theory, which posits that people in initial interactions are motivated to reduce their uncertainty about the other person in order to establish a sense of predictability and control. The theory has had a significant impact on our understanding of interpersonal communication.\n",
    "\n",
    "3. **Hall, S. (1980). Encoding/Decoding. In S. Hall, D. Hobson, A. Lowe, & P. Willis (Eds.), Culture, Media, Language: Working Papers in Cultural Studies, 1972-79 (pp. 128-138). London: Hutchinson.**\n",
    "\n",
    "In this influential essay, Stuart Hall argues that communication is not a straightforward process of transmission and reception, but rather a complex process of encoding and decoding that is shaped by social and cultural contexts. Hall's work has been highly influential in the field of cultural studies and communication theory.\n",
    "\n",
    "4. **Goffman, E. (1959). The Presentation of Self in Everyday Life. New York: Doubleday.**\n",
    "\n",
    "Erving Goffman's classic book explores the ways in which individuals present themselves to others in everyday interactions. Goffman's dramaturgical approach to communication theory emphasizes the performative nature of social interaction and the ways in which we use cues and context to manage our impressions and maintain social order.\n",
    "\n",
    "5. **Carey, J. W. (1989). Communication as Culture: Essays on Media and Society. New York: Routledge.**\n",
    "\n",
    "In this collection of essays, James Carey argues that communication is not just a matter of transmitting information, but rather a ritualistic process that creates and maintains social relationships and cultural meaning. Carey's work has been highly influential in the field of communication theory, and his cultural approach to communication studies has had a lasting impact on the field."
   ]
  },
  {
   "cell_type": "markdown",
   "id": "e7c85f0b-9520-4056-bfa7-1600dcd55e06",
   "metadata": {},
   "source": [
    "### Next prompt: Can you please pull a quote from each of these sources that you recommend"
   ]
  },
  {
   "cell_type": "markdown",
   "id": "74f53314-48ba-47ec-83df-992048fc753b",
   "metadata": {},
   "source": [
    "response: Here are some quotes from each of the sources I mentioned earlier:\n",
    "\n",
    "1. **Lasswell, H. D. (1948). The Structure and Function of Communication in Society. In L. Bryson (Ed.), The Communication of Ideas (pp. 37-51). New York: Harper & Brothers.**\n",
    "\n",
    "\"A convenient way to describe an act of communication is to answer the following questions: \n",
    "Who \n",
    "Says what \n",
    "In which channel \n",
    "To whom \n",
    "With what effect?\"\n",
    "\n",
    "This quote is a classic and lays out the fundamental questions that communication researchers still ask today.\n",
    "\n",
    "2. **Berger, C. R., & Calabrese, R. J. (1975). Some Explorations in Initial Interaction and Beyond: Toward a Developmental Theory of Interpersonal Communication. Human Communication Research, 1(2), 99-112.**\n",
    "\n",
    "\"One way to conceptualize the initial interaction is to view it as a process of uncertainty reduction. The interactants are motivated to reduce their uncertainty about each other in order to achieve a sense of predictability and control in the interaction.\"\n",
    "\n",
    "This quote highlights the core idea of uncertainty reduction theory, which has had a significant impact on our understanding of interpersonal communication.\n",
    "\n",
    "3. **Hall, S. (1980). Encoding/Decoding. In S. Hall, D. Hobson, A. Lowe, & P. Willis (Eds.), Culture, Media, Language: Working Papers in Cultural Studies, 1972-79 (pp. 128-138). London: Hutchinson.**\n",
    "\n",
    "\"The codes of encoding and decoding are not identical, and the senders' intentions may not be identical with the receivers' interpretations... The message is not 'transparent' but is refracted through the social and cultural formations of the decoder.\"\n",
    "\n",
    "This quote emphasizes the importance of considering the social and cultural contexts in which communication takes place, and how these contexts shape our understanding of messages.\n",
    "\n",
    "4. **Goffman, E. (1959). The Presentation of Self in Everyday Life. New York: Doubleday.**\n",
    "\n",
    "\"When an individual appears before others, he will have many motives for trying to control the impression they form of the situation... He will be concerned to manipulate the impression, and this will require him to be mindful of the impressions that are likely to be formed, and to guide his actions with this in mind.\"\n",
    "\n",
    "This quote highlights Goffman's key idea that individuals actively manage their self-presentation in social interactions to create a desired impression.\n",
    "\n",
    "5. **Carey, J. W. (1989). Communication as Culture: Essays on Media and Society. New York: Routledge.**\n",
    "\n",
    "\"Communication is a symbolic process whereby reality is produced, maintained, repaired, and transformed. It is a process of reality construction that involves the use of symbols, signs, and languages to create and recreate a shared understanding of the world.\"\n",
    "\n",
    "This quote captures Carey's cultural approach to communication, which emphasizes the role of communication in shaping our understanding of reality and creating social meaning."
   ]
  },
  {
   "cell_type": "markdown",
   "id": "79a3a93a-be94-46b6-8fa8-cf4fe974cfa4",
   "metadata": {},
   "source": [
    "## Now we gotta test if these are real quotes?"
   ]
  },
  {
   "cell_type": "markdown",
   "id": "2a985ad7-3738-4941-9b66-960cee8eb8fa",
   "metadata": {},
   "source": [
    "- All of these quotes are real, and belong to the same texts that the A.I. lists. Some of these quotes are to documents I can't find open access to online. "
   ]
  },
  {
   "cell_type": "markdown",
   "id": "79dc353a-1758-4ed0-8523-c0c6ace9c421",
   "metadata": {},
   "source": [
    "Prompt: Where can I find full copies of each of these sources?\n"
   ]
  },
  {
   "cell_type": "code",
   "execution_count": null,
   "id": "64a29af8-f9d5-4b6d-b5e2-fd24f314cd55",
   "metadata": {},
   "outputs": [],
   "source": [
    "Results:Here are some suggestions on where to find full copies of each of the sources:\n",
    "\n",
    "1. **Lasswell, H. D. (1948). The Structure and Function of Communication in Society. In L. Bryson (Ed.), The Communication of Ideas (pp. 37-51). New York: Harper & Brothers.**\n",
    "\n",
    "* Online archives: You can find a scanned copy of the book on the Internet Archive (archive.org).\n",
    "* University libraries: Check if your university library has a physical copy of the book or access to a digital version through their online catalog.\n",
    "* Google Books: You can also find a preview of the book on Google Books, but it might not be available for full download.\n",
    "\n",
    "2. **Berger, C. R., & Calabrese, R. J. (1975). Some Explorations in Initial Interaction and Beyond: Toward a Developmental Theory of Interpersonal Communication. Human Communication Research, 1(2), 99-112.**\n",
    "\n",
    "* Academic databases: You can find the article on academic databases such as JSTOR, EBSCO, or ProQuest through your university library's online resources.\n",
    "* Online repositories: Some universities or research institutions may have open-access repositories where you can find the article.\n",
    "* Interlibrary loan: If you don't have access to the article through your university library, you can request an interlibrary loan from another library that has a physical copy.\n",
    "\n",
    "3. **Hall, S. (1980). Encoding/Decoding. In S. Hall, D. Hobson, A. Lowe, & P. Willis (Eds.), Culture, Media, Language: Working Papers in Cultural Studies, 1972-79 (pp. 128-138). London: Hutchinson.**\n",
    "\n",
    "* Online archives: You can find a scanned copy of the book on the Internet Archive (archive.org).\n",
    "* University libraries: Check if your university library has a physical copy of the book or access to a digital version through their online catalog.\n",
    "* Google Books: You can also find a preview of the book on Google Books, but it might not be available for full download.\n",
    "\n",
    "4. **Goffman, E. (1959). The Presentation of Self in Everyday Life. New York: Doubleday.**\n",
    "\n",
    "* Online archives: You can find a scanned copy of the book on the Internet Archive (archive.org).\n",
    "* University libraries: Check if your university library has a physical copy of the book or access to a digital version through their online catalog.\n",
    "* Google Books: You can also find a preview of the book on Google Books, but it might not be available for full download.\n",
    "* Bookstores: You can also purchase a physical copy of the book from online bookstores like Amazon or Abebooks.\n",
    "\n",
    "5. **Carey, J. W. (1989). Communication as Culture: Essays on Media and Society. New York: Routledge.**\n",
    "\n",
    "* Online archives: You can find a scanned copy of the book on the Internet Archive (archive.org).\n",
    "* University libraries: Check if your university library has a physical copy of the book or access to a digital version through their online catalog.\n",
    "* Google Books: You can also find a preview of the book on Google Books, but it might not be available for full download.\n",
    "* Bookstores: You can also purchase a physical copy of the book from online bookstores like Amazon or Abebooks.\n",
    "\n",
    "Remember to always check the copyright and usage rights before sharing or distributing any of these sources.\n",
    "\n"
   ]
  },
  {
   "cell_type": "markdown",
   "id": "90013249-235b-4f26-97c2-b4363e2ff200",
   "metadata": {},
   "source": [
    "All of these answers don't give actual locations or add"
   ]
  }
 ],
 "metadata": {
  "citation-manager": {
   "items": {}
  },
  "kernelspec": {
   "display_name": "Python 3.8",
   "language": "python",
   "name": "python3"
  },
  "language_info": {
   "codemirror_mode": {
    "name": "ipython",
    "version": 3
   },
   "file_extension": ".py",
   "mimetype": "text/x-python",
   "name": "python",
   "nbconvert_exporter": "python",
   "pygments_lexer": "ipython3",
   "version": "3.8.8"
  }
 },
 "nbformat": 4,
 "nbformat_minor": 5
}
