{
 "cells": [
  {
   "cell_type": "raw",
   "id": "ed9c28dc-d5e3-4158-bd76-2447cb449cb0",
   "metadata": {},
   "source": [
    "---\n",
    "title: \"OK testing this thing\"\n",
    "description: \"An example post from a Jupyter notebook\"\n",
    "author: \"Sean\"\n",
    "date: \"2/6/2024\"\n",
    "draft: true\n",
    "categories:\n",
    "  - LLMs\n",
    "  - testing\n",
    "---"
   ]
  },
  {
   "cell_type": "markdown",
   "id": "e5a76a36-9486-49ce-a4ab-179f3ed9f220",
   "metadata": {},
   "source": [
    "### A test post"
   ]
  },
  {
   "cell_type": "raw",
   "id": "52c008ea-4298-4c42-914e-0e55ad4e9077",
   "metadata": {},
   "source": [
    "---\n",
    "title: \"Sean's first Post!\"\n",
    "description: \"Messing around with LLMs\"\n",
    "author: \"sean\"\n",
    "date: \"2/7/2024\"\n",
    "categories:\n",
    "  - LLMS\n",
    "  - Testing \n",
    "  - Having a good time\n",
    "---\n"
   ]
  },
  {
   "cell_type": "code",
   "execution_count": null,
   "id": "499010a8-c8a8-40fa-96db-6cf0cf8212d1",
   "metadata": {},
   "outputs": [],
   "source": []
  }
 ],
 "metadata": {
  "citation-manager": {
   "items": {}
  },
  "kernelspec": {
   "display_name": "Python 3.11 (COMM4190)",
   "language": "python",
   "name": "comm4190"
  },
  "language_info": {
   "codemirror_mode": {
    "name": "ipython",
    "version": 3
   },
   "file_extension": ".py",
   "mimetype": "text/x-python",
   "name": "python",
   "nbconvert_exporter": "python",
   "pygments_lexer": "ipython3",
   "version": "3.11.7"
  }
 },
 "nbformat": 4,
 "nbformat_minor": 5
}
