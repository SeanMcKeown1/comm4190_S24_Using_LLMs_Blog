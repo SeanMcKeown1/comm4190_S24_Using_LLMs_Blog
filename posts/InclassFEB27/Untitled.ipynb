{
 "cells": [
  {
   "cell_type": "raw",
   "id": "5b71c7bf-923c-419f-8ffa-b4e31d5b06cd",
   "metadata": {},
   "source": [
    "---\n",
    "title: \"In Class Health Assignment\"\n",
    "description: \"listening to speech, creating our own health messages \"\n",
    "author: \"sean\"\n",
    "date: \"2/27/2024\"\n",
    "categories:\n",
    "  - LLMS\n",
    "  - Testing \n",
    "  - Health\n",
    "---"
   ]
  },
  {
   "cell_type": "code",
   "execution_count": null,
   "id": "373094fe-4ac4-468e-9fc5-134963fc8706",
   "metadata": {},
   "outputs": [],
   "source": []
  }
 ],
 "metadata": {
  "citation-manager": {
   "items": {}
  },
  "kernelspec": {
   "display_name": "Python 3.8",
   "language": "python",
   "name": "python3"
  },
  "language_info": {
   "codemirror_mode": {
    "name": "ipython",
    "version": 3
   },
   "file_extension": ".py",
   "mimetype": "text/x-python",
   "name": "python",
   "nbconvert_exporter": "python",
   "pygments_lexer": "ipython3",
   "version": "3.8.8"
  }
 },
 "nbformat": 4,
 "nbformat_minor": 5
}
